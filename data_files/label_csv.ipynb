{
 "cells": [
  {
   "cell_type": "code",
   "execution_count": 1,
   "metadata": {},
   "outputs": [],
   "source": [
    "import pandas as pd\n",
    "import numpy as np\n",
    "import seaborn as sns"
   ]
  },
  {
   "cell_type": "code",
   "execution_count": 2,
   "metadata": {},
   "outputs": [],
   "source": [
    "data = pd.read_csv(\"metadata.csv\")"
   ]
  },
  {
   "cell_type": "code",
   "execution_count": 7,
   "metadata": {},
   "outputs": [],
   "source": [
    "popularity = []\n",
    "\n",
    "for idx in range(len(data)):\n",
    "    \n",
    "    likes = data.loc[idx,'Likes']\n",
    "    if likes < 1000:\n",
    "        popularity.append(\"low likes\")\n",
    "    elif 1000 <= likes < 10000:\n",
    "        popularity.append(\"moderate likes\")\n",
    "    else:\n",
    "        popularity.append(\"high likes\")\n",
    "        \n",
    "data['popularity'] = np.array(popularity)\n",
    "\n",
    "data.to_csv(\"data_classification.csv\",index=False)"
   ]
  },
  {
   "cell_type": "code",
   "execution_count": 9,
   "metadata": {},
   "outputs": [],
   "source": [
    "data = pd.read_csv(\"data_classification.csv\")"
   ]
  },
  {
   "cell_type": "code",
   "execution_count": 19,
   "metadata": {},
   "outputs": [],
   "source": [
    "#data[\"popularity\"] = data[\"popularity\"].astype('category')\n",
    "#data[\"popularity\"] = data[\"popularity\"].cat.codes\n",
    "data.head()\n",
    "features = data.loc[:,['Likes','Dislikes','Views','Comments']]\n",
    "labels = data.loc[:,'popularity']"
   ]
  },
  {
   "cell_type": "code",
   "execution_count": 20,
   "metadata": {},
   "outputs": [
    {
     "name": "stdout",
     "output_type": "stream",
     "text": [
      "[[7 0 0]\n",
      " [0 6 0]\n",
      " [0 0 8]]\n",
      "              precision    recall  f1-score   support\n",
      "\n",
      "           0       1.00      1.00      1.00         7\n",
      "           1       1.00      1.00      1.00         6\n",
      "           2       1.00      1.00      1.00         8\n",
      "\n",
      "    accuracy                           1.00        21\n",
      "   macro avg       1.00      1.00      1.00        21\n",
      "weighted avg       1.00      1.00      1.00        21\n",
      "\n",
      "1.0\n"
     ]
    }
   ],
   "source": [
    "from sklearn.model_selection import train_test_split\n",
    "from sklearn.preprocessing import StandardScaler\n",
    "from sklearn.ensemble import RandomForestClassifier\n",
    "from sklearn.metrics import classification_report, confusion_matrix, accuracy_score\n",
    "import matplotlib.pyplot as plt\n",
    "\n",
    "X_train, X_test, y_train, y_test = train_test_split(features, labels, test_size=0.2, random_state=0)\n",
    "\n",
    "\n",
    "sc = StandardScaler()\n",
    "X_train = sc.fit_transform(X_train)\n",
    "X_test = sc.transform(X_test)\n",
    "\n",
    "regressor = RandomForestClassifier(n_estimators=64, random_state=0)\n",
    "regressor.fit(X_train, y_train)\n",
    "y_pred = regressor.predict(X_test)\n",
    "\n",
    "print(confusion_matrix(y_test,y_pred))\n",
    "print(classification_report(y_test,y_pred))\n",
    "print(accuracy_score(y_test, y_pred))\n",
    "\n",
    "plt.plot(y_pred)"
   ]
  },
  {
   "cell_type": "code",
   "execution_count": 17,
   "metadata": {},
   "outputs": [
    {
     "data": {
      "text/plain": [
       "<matplotlib.legend.Legend at 0x1f5e1a26cc8>"
      ]
     },
     "execution_count": 17,
     "metadata": {},
     "output_type": "execute_result"
    },
    {
     "data": {
      "image/png": "[encoded data removed]",
      "text/plain": [
       "<Figure size 432x288 with 1 Axes>"
      ]
     },
     "metadata": {
      "needs_background": "light"
     },
     "output_type": "display_data"
    }
   ],
   "source": [
    "import matplotlib.pyplot as plt\n",
    " \n",
    "df = data[['Normalized_Likes', 'Normalized_Views']]\n",
    "likes = df['Normalized_Likes'].values\n",
    "views = df['Normalized_Views'].values\n",
    "plt.scatter([i for i in range (len(likes))], likes, marker = 'o', label='Likes')\n",
    "plt.scatter([i for i in range (len(likes))], views, marker = 'x', label='Views')\n",
    "plt.legend()"
   ]
  },
  {
   "cell_type": "code",
   "execution_count": 21,
   "metadata": {},
   "outputs": [
    {
     "data": {
      "text/html": [
       "<style  type=\"text/css\" >\n",
       "    #T_aa0ebfa6_2b53_11eb_90f5_34e12df65fc1row0_col0 {\n",
       "            background-color:  #b40426;\n",
       "            color:  #f1f1f1;\n",
       "        }    #T_aa0ebfa6_2b53_11eb_90f5_34e12df65fc1row0_col1 {\n",
       "            background-color:  #f59c7d;\n",
       "            color:  #000000;\n",
       "        }    #T_aa0ebfa6_2b53_11eb_90f5_34e12df65fc1row0_col2 {\n",
       "            background-color:  #3b4cc0;\n",
       "            color:  #f1f1f1;\n",
       "        }    #T_aa0ebfa6_2b53_11eb_90f5_34e12df65fc1row0_col3 {\n",
       "            background-color:  #7396f5;\n",
       "            color:  #000000;\n",
       "        }    #T_aa0ebfa6_2b53_11eb_90f5_34e12df65fc1row1_col0 {\n",
       "            background-color:  #f08a6c;\n",
       "            color:  #000000;\n",
       "        }    #T_aa0ebfa6_2b53_11eb_90f5_34e12df65fc1row1_col1 {\n",
       "            background-color:  #b40426;\n",
       "            color:  #f1f1f1;\n",
       "        }    #T_aa0ebfa6_2b53_11eb_90f5_34e12df65fc1row1_col2 {\n",
       "            background-color:  #6c8ff1;\n",
       "            color:  #000000;\n",
       "        }    #T_aa0ebfa6_2b53_11eb_90f5_34e12df65fc1row1_col3 {\n",
       "            background-color:  #3b4cc0;\n",
       "            color:  #f1f1f1;\n",
       "        }    #T_aa0ebfa6_2b53_11eb_90f5_34e12df65fc1row2_col0 {\n",
       "            background-color:  #3b4cc0;\n",
       "            color:  #f1f1f1;\n",
       "        }    #T_aa0ebfa6_2b53_11eb_90f5_34e12df65fc1row2_col1 {\n",
       "            background-color:  #3b4cc0;\n",
       "            color:  #f1f1f1;\n",
       "        }    #T_aa0ebfa6_2b53_11eb_90f5_34e12df65fc1row2_col2 {\n",
       "            background-color:  #b40426;\n",
       "            color:  #f1f1f1;\n",
       "        }    #T_aa0ebfa6_2b53_11eb_90f5_34e12df65fc1row2_col3 {\n",
       "            background-color:  #f3c8b2;\n",
       "            color:  #000000;\n",
       "        }    #T_aa0ebfa6_2b53_11eb_90f5_34e12df65fc1row3_col0 {\n",
       "            background-color:  #bbd1f8;\n",
       "            color:  #000000;\n",
       "        }    #T_aa0ebfa6_2b53_11eb_90f5_34e12df65fc1row3_col1 {\n",
       "            background-color:  #5d7ce6;\n",
       "            color:  #000000;\n",
       "        }    #T_aa0ebfa6_2b53_11eb_90f5_34e12df65fc1row3_col2 {\n",
       "            background-color:  #f7a98b;\n",
       "            color:  #000000;\n",
       "        }    #T_aa0ebfa6_2b53_11eb_90f5_34e12df65fc1row3_col3 {\n",
       "            background-color:  #b40426;\n",
       "            color:  #f1f1f1;\n",
       "        }</style><table id=\"T_aa0ebfa6_2b53_11eb_90f5_34e12df65fc1\" ><thead>    <tr>        <th class=\"blank level0\" ></th>        <th class=\"col_heading level0 col0\" >Likes</th>        <th class=\"col_heading level0 col1\" >Views</th>        <th class=\"col_heading level0 col2\" >Dislikes</th>        <th class=\"col_heading level0 col3\" >Comments</th>    </tr></thead><tbody>\n",
       "                <tr>\n",
       "                        <th id=\"T_aa0ebfa6_2b53_11eb_90f5_34e12df65fc1level0_row0\" class=\"row_heading level0 row0\" >Likes</th>\n",
       "                        <td id=\"T_aa0ebfa6_2b53_11eb_90f5_34e12df65fc1row0_col0\" class=\"data row0 col0\" >1</td>\n",
       "                        <td id=\"T_aa0ebfa6_2b53_11eb_90f5_34e12df65fc1row0_col1\" class=\"data row0 col1\" >0.92</td>\n",
       "                        <td id=\"T_aa0ebfa6_2b53_11eb_90f5_34e12df65fc1row0_col2\" class=\"data row0 col2\" >0.65</td>\n",
       "                        <td id=\"T_aa0ebfa6_2b53_11eb_90f5_34e12df65fc1row0_col3\" class=\"data row0 col3\" >0.78</td>\n",
       "            </tr>\n",
       "            <tr>\n",
       "                        <th id=\"T_aa0ebfa6_2b53_11eb_90f5_34e12df65fc1level0_row1\" class=\"row_heading level0 row1\" >Views</th>\n",
       "                        <td id=\"T_aa0ebfa6_2b53_11eb_90f5_34e12df65fc1row1_col0\" class=\"data row1 col0\" >0.92</td>\n",
       "                        <td id=\"T_aa0ebfa6_2b53_11eb_90f5_34e12df65fc1row1_col1\" class=\"data row1 col1\" >1</td>\n",
       "                        <td id=\"T_aa0ebfa6_2b53_11eb_90f5_34e12df65fc1row1_col2\" class=\"data row1 col2\" >0.7</td>\n",
       "                        <td id=\"T_aa0ebfa6_2b53_11eb_90f5_34e12df65fc1row1_col3\" class=\"data row1 col3\" >0.74</td>\n",
       "            </tr>\n",
       "            <tr>\n",
       "                        <th id=\"T_aa0ebfa6_2b53_11eb_90f5_34e12df65fc1level0_row2\" class=\"row_heading level0 row2\" >Dislikes</th>\n",
       "                        <td id=\"T_aa0ebfa6_2b53_11eb_90f5_34e12df65fc1row2_col0\" class=\"data row2 col0\" >0.65</td>\n",
       "                        <td id=\"T_aa0ebfa6_2b53_11eb_90f5_34e12df65fc1row2_col1\" class=\"data row2 col1\" >0.7</td>\n",
       "                        <td id=\"T_aa0ebfa6_2b53_11eb_90f5_34e12df65fc1row2_col2\" class=\"data row2 col2\" >1</td>\n",
       "                        <td id=\"T_aa0ebfa6_2b53_11eb_90f5_34e12df65fc1row2_col3\" class=\"data row2 col3\" >0.9</td>\n",
       "            </tr>\n",
       "            <tr>\n",
       "                        <th id=\"T_aa0ebfa6_2b53_11eb_90f5_34e12df65fc1level0_row3\" class=\"row_heading level0 row3\" >Comments</th>\n",
       "                        <td id=\"T_aa0ebfa6_2b53_11eb_90f5_34e12df65fc1row3_col0\" class=\"data row3 col0\" >0.78</td>\n",
       "                        <td id=\"T_aa0ebfa6_2b53_11eb_90f5_34e12df65fc1row3_col1\" class=\"data row3 col1\" >0.74</td>\n",
       "                        <td id=\"T_aa0ebfa6_2b53_11eb_90f5_34e12df65fc1row3_col2\" class=\"data row3 col2\" >0.9</td>\n",
       "                        <td id=\"T_aa0ebfa6_2b53_11eb_90f5_34e12df65fc1row3_col3\" class=\"data row3 col3\" >1</td>\n",
       "            </tr>\n",
       "    </tbody></table>"
      ],
      "text/plain": [
       "<pandas.io.formats.style.Styler at 0x1f5df9e08c8>"
      ]
     },
     "execution_count": 21,
     "metadata": {},
     "output_type": "execute_result"
    }
   ],
   "source": [
    "df = data[['Likes', 'Views', 'Dislikes' ,'Comments']]\n",
    "corr = df.corr()\n",
    "corr.style.background_gradient(cmap='coolwarm').set_precision(2)"
   ]
  }
 ],
 "metadata": {
  "kernelspec": {
   "display_name": "Python 3",
   "language": "python",
   "name": "python3"
  },
  "language_info": {
   "codemirror_mode": {
    "name": "ipython",
    "version": 3
   },
   "file_extension": ".py",
   "mimetype": "text/x-python",
   "name": "python",
   "nbconvert_exporter": "python",
   "pygments_lexer": "ipython3",
   "version": "3.7.4"
  }
 },
 "nbformat": 4,
 "nbformat_minor": 2
}
